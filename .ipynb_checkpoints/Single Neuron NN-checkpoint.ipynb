{
 "cells": [
  {
   "cell_type": "code",
   "execution_count": 2,
   "metadata": {},
   "outputs": [],
   "source": [
    "import numpy as np\n",
    "%matplotlib inline\n",
    "import matplotlib.pyplot as plt\n"
   ]
  },
  {
   "cell_type": "code",
   "execution_count": 23,
   "metadata": {},
   "outputs": [
    {
     "data": {
      "text/plain": [
       "array([[3. , 1.5, 1. ],\n",
       "       [2. , 1. , 0. ],\n",
       "       [1.5, 0.5, 0. ],\n",
       "       [2.5, 1. , 1. ],\n",
       "       [2. , 1.5, 1. ],\n",
       "       [1. , 1. , 0. ]])"
      ]
     },
     "execution_count": 23,
     "metadata": {},
     "output_type": "execute_result"
    }
   ],
   "source": [
    "data = np.array([[3,1.5,1],[2,1,0],[1.5,0.5,0],[2.5,1,1],[2.0, 1.5, 1],[1,1,0]])\n",
    "data"
   ]
  },
  {
   "cell_type": "code",
   "execution_count": 24,
   "metadata": {},
   "outputs": [],
   "source": [
    "x1 = data[:,0] #kolom pertama\n",
    "x2 = data[:,1] #kolom kedua\n",
    "target = data[:,2] #kolom ketiga"
   ]
  },
  {
   "cell_type": "code",
   "execution_count": 27,
   "metadata": {},
   "outputs": [
    {
     "data": {
      "text/plain": [
       "array([1.5, 1. , 0.5, 1. , 1.5, 1. ])"
      ]
     },
     "execution_count": 27,
     "metadata": {},
     "output_type": "execute_result"
    }
   ],
   "source": [
    "x2"
   ]
  },
  {
   "cell_type": "code",
   "execution_count": 28,
   "metadata": {},
   "outputs": [
    {
     "data": {
      "image/png": "[encoded data removed]",
      "text/plain": [
       "<Figure size 432x288 with 1 Axes>"
      ]
     },
     "metadata": {
      "needs_background": "light"
     },
     "output_type": "display_data"
    }
   ],
   "source": [
    "def vis_data():\n",
    "    for i in range(len(x1)): #looping sebanyak jumlah data x1\n",
    "        if(target[i]==1):\n",
    "            plt.scatter(x1[i], x2[i],color='red') #jika target 1=>warna merah\n",
    "        else:\n",
    "            plt.scatter(x1[i], x2[i],color='blue')#jika target 0=>warna biru \n",
    "    plt.xlabel(\"x1\")\n",
    "    plt.ylabel(\"x2\")\n",
    "    plt.grid()\n",
    "    plt.show()\n",
    "\n",
    "vis_data()"
   ]
  },
  {
   "cell_type": "code",
   "execution_count": 30,
   "metadata": {},
   "outputs": [],
   "source": [
    "def NN(x1, x2, w1, w2, b):\n",
    "    y_in = b + x1*w1 + x2*w2\n",
    "    return y_in\n",
    "def sigmoid(x):\n",
    "    return 1/(1+np.exp(-x))\n",
    "def d_sigmoid(x):\n",
    "    return sigmoid(x)*(1-sigmoid(x))\n"
   ]
  },
  {
   "cell_type": "code",
   "execution_count": 41,
   "metadata": {},
   "outputs": [
    {
     "data": {
      "image/png": "[encoded data removed]",
      "text/plain": [
       "<Figure size 432x288 with 1 Axes>"
      ]
     },
     "metadata": {
      "needs_background": "light"
     },
     "output_type": "display_data"
    }
   ],
   "source": [
    "#test graph \n",
    "x_ = np.linspace(-7,7, 30)\n",
    "plt.plot(x_, sigmoid(x_),c='b') #fungsi sigmoid\n",
    "plt.plot(x_, d_sigmoid(x_), c='r') #fungsi derivative sigmoid\n",
    "plt.grid()\n",
    "plt.show()"
   ]
  },
  {
   "cell_type": "code",
   "execution_count": 42,
   "metadata": {},
   "outputs": [
    {
     "name": "stdout",
     "output_type": "stream",
     "text": [
      "cost:  0.0006352221716170631\n"
     ]
    },
    {
     "data": {
      "image/png": "[encoded data removed]",
      "text/plain": [
       "<Figure size 432x288 with 1 Axes>"
      ]
     },
     "metadata": {
      "needs_background": "light"
     },
     "output_type": "display_data"
    }
   ],
   "source": [
    "#Train\n",
    "def train(x1, x2, target):\n",
    "    w1 = np.random.randn()\n",
    "    w2 = np.random.randn()\n",
    "    b =np.random.randn()\n",
    "    learning_rate = 0.1\n",
    "    iteration = 2000\n",
    "    costs=[]\n",
    "    for i in range(iteration):\n",
    "        for j in range(len(x1)):\n",
    "            y_in = NN(x1[j],x2[j], w1, w2, b)\n",
    "            y = sigmoid(y_in)\n",
    "            #cost\n",
    "            cost = (y-target[j])**2\n",
    "            #print('cost: ', cost)\n",
    "            #optimation\n",
    "            \n",
    "            d_cost = 2*(y-target[j])\n",
    "            d_y = d_sigmoid(y_in)\n",
    "            dz = d_cost * d_y\n",
    "            w1 = w1-dz*learning_rate*x1[j]\n",
    "            w2 = w2-dz*learning_rate*x2[j]\n",
    "            b = b-dz*learning_rate*1\n",
    "            #print('weight',w1, w2, b)\n",
    "        if i%100 == 0:\n",
    "            costs = np.append(costs, cost)\n",
    "    x = np.arange(len(costs))\n",
    "    plt.plot(x, costs)\n",
    "    print('cost: ',cost)\n",
    "    return w1, w2, b\n",
    "\n",
    "w1, w2, b = train(x1, x2, target)\n",
    "\n"
   ]
  },
  {
   "cell_type": "code",
   "execution_count": 43,
   "metadata": {},
   "outputs": [
    {
     "name": "stdout",
     "output_type": "stream",
     "text": [
      "w1: 3.2055535381318028\n",
      "w2: 3.83397713706036\n",
      "b: -10.695143409480492\n"
     ]
    }
   ],
   "source": [
    "print('w1:', w1)\n",
    "print('w2:', w2)\n",
    "print('b:', b)"
   ]
  },
  {
   "cell_type": "code",
   "execution_count": 44,
   "metadata": {},
   "outputs": [
    {
     "data": {
      "image/png": "[encoded data removed]",
      "text/plain": [
       "<Figure size 432x288 with 1 Axes>"
      ]
     },
     "metadata": {
      "needs_background": "light"
     },
     "output_type": "display_data"
    }
   ],
   "source": [
    "for x in np.linspace(0, 6, 20):\n",
    "    for y in np.linspace(0, 3, 20):\n",
    "        pred = sigmoid(w1 * x + w2 * y + b)\n",
    "        c = 'b'\n",
    "        if pred > .5:\n",
    "            c = 'r'\n",
    "        plt.scatter([x],[y],c=c, alpha=.2)\n",
    "vis_data()\n",
    "   "
   ]
  },
  {
   "cell_type": "code",
   "execution_count": 52,
   "metadata": {},
   "outputs": [
    {
     "name": "stdout",
     "output_type": "stream",
     "text": [
      "hasil prediksi warna biru\n",
      "hasil prediksi: 0.0007646112863950174\n"
     ]
    }
   ],
   "source": [
    "# prediksi:\n",
    "data_baru = [0.5, 0.5]\n",
    "# input x1, x2, w1, w2, b\n",
    "prediksi = NN(data_baru[0], data_baru[1],w1, w2, b)\n",
    "prediksi = sigmoid(prediksi)\n",
    "\n",
    "if (prediksi>0.5):\n",
    "    print(\"hasil prediksi warna merah\")\n",
    "else:\n",
    "     print(\"hasil prediksi warna biru\")\n",
    "print(\"hasil prediksi:\", prediksi)\n"
   ]
  }
 ],
 "metadata": {
  "kernelspec": {
   "display_name": "Python 3",
   "language": "python",
   "name": "python3"
  },
  "language_info": {
   "codemirror_mode": {
    "name": "ipython",
    "version": 3
   },
   "file_extension": ".py",
   "mimetype": "text/x-python",
   "name": "python",
   "nbconvert_exporter": "python",
   "pygments_lexer": "ipython3",
   "version": "3.7.1"
  }
 },
 "nbformat": 4,
 "nbformat_minor": 2
}
